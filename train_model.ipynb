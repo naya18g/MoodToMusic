{
 "cells": [
  {
   "cell_type": "code",
   "execution_count": 1,
   "id": "596e37ea",
   "metadata": {
    "execution": {
     "iopub.execute_input": "2021-08-24T14:12:54.218163Z",
     "iopub.status.busy": "2021-08-24T14:12:54.217073Z",
     "iopub.status.idle": "2021-08-24T14:13:01.772362Z",
     "shell.execute_reply": "2021-08-24T14:13:01.771708Z",
     "shell.execute_reply.started": "2021-08-24T12:01:27.455192Z"
    },
    "papermill": {
     "duration": 7.713848,
     "end_time": "2021-08-24T14:13:01.772516",
     "exception": false,
     "start_time": "2021-08-24T14:12:54.058668",
     "status": "completed"
    },
    "tags": []
   },
   "outputs": [],
   "source": [
    "import numpy as np \n",
    "import pandas as pd\n",
    "import os\n",
    "import matplotlib.pyplot as plt\n",
    "import seaborn as sns\n",
    "import tensorflow as tf\n",
    "import keras\n",
    "from keras.preprocessing import image\n",
    "from keras.models import Sequential\n",
    "from keras.layers import Conv2D, MaxPool2D, Flatten,Dense,Dropout,BatchNormalization\n",
    "from tensorflow.keras.preprocessing.image import ImageDataGenerator\n",
    "import cv2\n",
    "from tensorflow.keras.applications import VGG16, InceptionResNetV2\n",
    "from keras import regularizers\n",
    "from tensorflow.keras.optimizers import Adam,RMSprop,SGD,Adamax\n"
   ]
  },
  {
   "cell_type": "code",
   "execution_count": 2,
   "id": "f650bf42",
   "metadata": {
    "execution": {
     "iopub.execute_input": "2021-08-24T14:13:01.954966Z",
     "iopub.status.busy": "2021-08-24T14:13:01.953944Z",
     "iopub.status.idle": "2021-08-24T14:13:01.957857Z",
     "shell.execute_reply": "2021-08-24T14:13:01.957329Z",
     "shell.execute_reply.started": "2021-08-24T12:01:34.125652Z"
    },
    "papermill": {
     "duration": 0.097207,
     "end_time": "2021-08-24T14:13:01.958033",
     "exception": false,
     "start_time": "2021-08-24T14:13:01.860826",
     "status": "completed"
    },
    "tags": []
   },
   "outputs": [],
   "source": [
    "train_dir = \"FER13/train\"\n",
    "#passing the path with training images\n",
    "test_dir = \"FER13/test\""
   ]
  },
  {
   "cell_type": "code",
   "execution_count": 3,
   "id": "fff7306e",
   "metadata": {
    "execution": {
     "iopub.execute_input": "2021-08-24T14:13:02.143991Z",
     "iopub.status.busy": "2021-08-24T14:13:02.142971Z",
     "iopub.status.idle": "2021-08-24T14:13:02.145838Z",
     "shell.execute_reply": "2021-08-24T14:13:02.146423Z",
     "shell.execute_reply.started": "2021-08-24T12:01:34.136856Z"
    },
    "papermill": {
     "duration": 0.098909,
     "end_time": "2021-08-24T14:13:02.146627",
     "exception": false,
     "start_time": "2021-08-24T14:13:02.047718",
     "status": "completed"
    },
    "tags": []
   },
   "outputs": [],
   "source": [
    "img_size = 48"
   ]
  },
  {
   "cell_type": "code",
   "execution_count": 4,
   "id": "d78f6649",
   "metadata": {
    "execution": {
     "iopub.execute_input": "2021-08-24T14:13:02.333373Z",
     "iopub.status.busy": "2021-08-24T14:13:02.332231Z",
     "iopub.status.idle": "2021-08-24T14:13:02.339157Z",
     "shell.execute_reply": "2021-08-24T14:13:02.338608Z",
     "shell.execute_reply.started": "2021-08-24T12:01:34.145553Z"
    },
    "papermill": {
     "duration": 0.105911,
     "end_time": "2021-08-24T14:13:02.339303",
     "exception": false,
     "start_time": "2021-08-24T14:13:02.233392",
     "status": "completed"
    },
    "tags": []
   },
   "outputs": [],
   "source": [
    "train_datagen = ImageDataGenerator(#rotation_range = 180,\n",
    "                                         width_shift_range = 0.1,\n",
    "                                         height_shift_range = 0.1,\n",
    "                                         horizontal_flip = True,\n",
    "                                         rescale = 1./255,\n",
    "                                         #zoom_range = 0.2,\n",
    "                                         validation_split = 0.2\n",
    "                                        )\n",
    "validation_datagen = ImageDataGenerator(rescale = 1./255,\n",
    "                                         validation_split = 0.2)"
   ]
  },
  {
   "cell_type": "code",
   "execution_count": 5,
   "id": "7762bc7f",
   "metadata": {
    "execution": {
     "iopub.execute_input": "2021-08-24T14:13:02.521695Z",
     "iopub.status.busy": "2021-08-24T14:13:02.520936Z",
     "iopub.status.idle": "2021-08-24T14:13:03.308033Z",
     "shell.execute_reply": "2021-08-24T14:13:03.307062Z",
     "shell.execute_reply.started": "2021-08-24T12:01:34.157253Z"
    },
    "papermill": {
     "duration": 0.881368,
     "end_time": "2021-08-24T14:13:03.308269",
     "exception": false,
     "start_time": "2021-08-24T14:13:02.426901",
     "status": "completed"
    },
    "tags": []
   },
   "outputs": [
    {
     "name": "stdout",
     "output_type": "stream",
     "text": [
      "Found 22968 images belonging to 7 classes.\n",
      "Found 1432 images belonging to 7 classes.\n"
     ]
    }
   ],
   "source": [
    "train_generator = train_datagen.flow_from_directory(directory = train_dir,\n",
    "                                                    target_size = (img_size,img_size),\n",
    "                                                    batch_size = 64,\n",
    "                                                    color_mode = \"grayscale\",\n",
    "                                                    class_mode = \"categorical\",\n",
    "                                                    subset = \"training\"\n",
    "                                                   )\n",
    "validation_generator = validation_datagen.flow_from_directory( directory = test_dir,\n",
    "                                                              target_size = (img_size,img_size),\n",
    "                                                              batch_size = 64,\n",
    "                                                              color_mode = \"grayscale\",\n",
    "                                                              class_mode = \"categorical\",\n",
    "                                                              subset = \"validation\"\n",
    "                                                             )"
   ]
  },
  {
   "cell_type": "code",
   "execution_count": 6,
   "id": "15e9a72e",
   "metadata": {
    "execution": {
     "iopub.execute_input": "2021-08-24T14:13:03.506888Z",
     "iopub.status.busy": "2021-08-24T14:13:03.505767Z",
     "iopub.status.idle": "2021-08-24T14:13:06.397802Z",
     "shell.execute_reply": "2021-08-24T14:13:06.396688Z",
     "shell.execute_reply.started": "2021-08-24T12:01:34.953800Z"
    },
    "papermill": {
     "duration": 2.996189,
     "end_time": "2021-08-24T14:13:06.398008",
     "exception": false,
     "start_time": "2021-08-24T14:13:03.401819",
     "status": "completed"
    },
    "tags": []
   },
   "outputs": [],
   "source": [
    "model = tf.keras.Sequential([\n",
    "\n",
    "        # input layer\n",
    "        tf.keras.layers.Conv2D(32,(3,3),activation = 'relu',input_shape=(48,48,1)),\n",
    "        tf.keras.layers.Conv2D(64,(3,3), padding='same', activation='relu' ),\n",
    "        tf.keras.layers.BatchNormalization(),\n",
    "        tf.keras.layers.MaxPooling2D(2,2),\n",
    "        tf.keras.layers.Dropout(0.25),\n",
    "\n",
    "        # 1st hidden dense layer\n",
    "        tf.keras.layers.Conv2D(128,(5,5), padding='same', activation='relu'),\n",
    "        tf.keras.layers.BatchNormalization(),\n",
    "        tf.keras.layers.MaxPooling2D(2,2),\n",
    "        tf.keras.layers.Dropout(0.25),\n",
    "    \n",
    "        # 2nd hidden dense layer\n",
    "        tf.keras.layers.Conv2D(512,(3,3), padding='same', activation='relu',kernel_regularizer=tf.keras.regularizers.l2(0.01)),\n",
    "        tf.keras.layers.BatchNormalization(),\n",
    "        tf.keras.layers.MaxPooling2D(2,2),\n",
    "        tf.keras.layers.Dropout(0.25),\n",
    "    \n",
    "        # 3rd hidden dense layer\n",
    "        tf.keras.layers.Conv2D(512,(3,3), padding='same', activation='relu',kernel_regularizer=tf.keras.regularizers.l2(0.01)),\n",
    "        tf.keras.layers.BatchNormalization(),\n",
    "        tf.keras.layers.MaxPooling2D(2,2),\n",
    "        tf.keras.layers.Dropout(0.25),\n",
    "    \n",
    "        # Flatten layer\n",
    "        tf.keras.layers.Flatten(),\n",
    "        tf.keras.layers.Dense(256, activation='relu'),\n",
    "        tf.keras.layers.BatchNormalization(),\n",
    "        tf.keras.layers.Dropout(0.25),\n",
    "    \n",
    "        tf.keras.layers.Dense(512, activation='relu'),\n",
    "        tf.keras.layers.BatchNormalization(),\n",
    "        tf.keras.layers.Dropout(0.25),\n",
    "        # output layer\n",
    "        tf.keras.layers.Dense(7, activation='softmax')\n",
    "    ])"
   ]
  },
  {
   "cell_type": "code",
   "execution_count": 7,
   "id": "14b784e8",
   "metadata": {
    "execution": {
     "iopub.execute_input": "2021-08-24T14:13:06.598155Z",
     "iopub.status.busy": "2021-08-24T14:13:06.590962Z",
     "iopub.status.idle": "2021-08-24T14:13:06.627423Z",
     "shell.execute_reply": "2021-08-24T14:13:06.626854Z",
     "shell.execute_reply.started": "2021-08-24T13:08:12.657190Z"
    },
    "papermill": {
     "duration": 0.138572,
     "end_time": "2021-08-24T14:13:06.627600",
     "exception": false,
     "start_time": "2021-08-24T14:13:06.489028",
     "status": "completed"
    },
    "tags": []
   },
   "outputs": [
    {
     "name": "stdout",
     "output_type": "stream",
     "text": [
      "Model: \"sequential\"\n",
      "_________________________________________________________________\n",
      " Layer (type)                Output Shape              Param #   \n",
      "=================================================================\n",
      " conv2d (Conv2D)             (None, 46, 46, 32)        320       \n",
      "                                                                 \n",
      " conv2d_1 (Conv2D)           (None, 46, 46, 64)        18496     \n",
      "                                                                 \n",
      " batch_normalization (BatchN  (None, 46, 46, 64)       256       \n",
      " ormalization)                                                   \n",
      "                                                                 \n",
      " max_pooling2d (MaxPooling2D  (None, 23, 23, 64)       0         \n",
      " )                                                               \n",
      "                                                                 \n",
      " dropout (Dropout)           (None, 23, 23, 64)        0         \n",
      "                                                                 \n",
      " conv2d_2 (Conv2D)           (None, 23, 23, 128)       204928    \n",
      "                                                                 \n",
      " batch_normalization_1 (Batc  (None, 23, 23, 128)      512       \n",
      " hNormalization)                                                 \n",
      "                                                                 \n",
      " max_pooling2d_1 (MaxPooling  (None, 11, 11, 128)      0         \n",
      " 2D)                                                             \n",
      "                                                                 \n",
      " dropout_1 (Dropout)         (None, 11, 11, 128)       0         \n",
      "                                                                 \n",
      " conv2d_3 (Conv2D)           (None, 11, 11, 512)       590336    \n",
      "                                                                 \n",
      " batch_normalization_2 (Batc  (None, 11, 11, 512)      2048      \n",
      " hNormalization)                                                 \n",
      "                                                                 \n",
      " max_pooling2d_2 (MaxPooling  (None, 5, 5, 512)        0         \n",
      " 2D)                                                             \n",
      "                                                                 \n",
      " dropout_2 (Dropout)         (None, 5, 5, 512)         0         \n",
      "                                                                 \n",
      " conv2d_4 (Conv2D)           (None, 5, 5, 512)         2359808   \n",
      "                                                                 \n",
      " batch_normalization_3 (Batc  (None, 5, 5, 512)        2048      \n",
      " hNormalization)                                                 \n",
      "                                                                 \n",
      " max_pooling2d_3 (MaxPooling  (None, 2, 2, 512)        0         \n",
      " 2D)                                                             \n",
      "                                                                 \n",
      " dropout_3 (Dropout)         (None, 2, 2, 512)         0         \n",
      "                                                                 \n",
      " flatten (Flatten)           (None, 2048)              0         \n",
      "                                                                 \n",
      " dense (Dense)               (None, 256)               524544    \n",
      "                                                                 \n",
      " batch_normalization_4 (Batc  (None, 256)              1024      \n",
      " hNormalization)                                                 \n",
      "                                                                 \n",
      " dropout_4 (Dropout)         (None, 256)               0         \n",
      "                                                                 \n",
      " dense_1 (Dense)             (None, 512)               131584    \n",
      "                                                                 \n",
      " batch_normalization_5 (Batc  (None, 512)              2048      \n",
      " hNormalization)                                                 \n",
      "                                                                 \n",
      " dropout_5 (Dropout)         (None, 512)               0         \n",
      "                                                                 \n",
      " dense_2 (Dense)             (None, 7)                 3591      \n",
      "                                                                 \n",
      "=================================================================\n",
      "Total params: 3,841,543\n",
      "Trainable params: 3,837,575\n",
      "Non-trainable params: 3,968\n",
      "_________________________________________________________________\n"
     ]
    },
    {
     "name": "stderr",
     "output_type": "stream",
     "text": [
      "C:\\Users\\Public\\anaconda3\\lib\\site-packages\\keras\\optimizer_v2\\adam.py:105: UserWarning: The `lr` argument is deprecated, use `learning_rate` instead.\n",
      "  super(Adam, self).__init__(name, **kwargs)\n"
     ]
    }
   ],
   "source": [
    "optimiser = tf.keras.optimizers.Adam(lr=0.0001)\n",
    "model.compile(optimizer=optimiser,\n",
    "                  loss='categorical_crossentropy',\n",
    "                  metrics=['accuracy'])\n",
    "\n",
    "model.summary()"
   ]
  },
  {
   "cell_type": "code",
   "execution_count": 8,
   "id": "df8c6ade",
   "metadata": {
    "execution": {
     "iopub.execute_input": "2021-08-24T14:13:06.811847Z",
     "iopub.status.busy": "2021-08-24T14:13:06.811115Z",
     "iopub.status.idle": "2021-08-24T14:13:06.816455Z",
     "shell.execute_reply": "2021-08-24T14:13:06.815858Z",
     "shell.execute_reply.started": "2021-08-24T13:08:24.954206Z"
    },
    "papermill": {
     "duration": 0.098805,
     "end_time": "2021-08-24T14:13:06.816584",
     "exception": false,
     "start_time": "2021-08-24T14:13:06.717779",
     "status": "completed"
    },
    "tags": []
   },
   "outputs": [],
   "source": [
    "epochs = 100\n",
    "batch_size = 64"
   ]
  },
  {
   "cell_type": "code",
   "execution_count": 9,
   "id": "bd35adae",
   "metadata": {
    "execution": {
     "iopub.execute_input": "2021-08-24T14:13:07.038436Z",
     "iopub.status.busy": "2021-08-24T14:13:07.037520Z",
     "iopub.status.idle": "2021-08-24T15:11:20.822120Z",
     "shell.execute_reply": "2021-08-24T15:11:20.821550Z",
     "shell.execute_reply.started": "2021-08-24T13:08:25.361546Z"
    },
    "papermill": {
     "duration": 3493.917397,
     "end_time": "2021-08-24T15:11:20.822294",
     "exception": false,
     "start_time": "2021-08-24T14:13:06.904897",
     "status": "completed"
    },
    "tags": []
   },
   "outputs": [
    {
     "name": "stdout",
     "output_type": "stream",
     "text": [
      "Epoch 1/100\n",
      "359/359 [==============================] - 108s 273ms/step - loss: 9.3044 - accuracy: 0.1882 - val_loss: 8.5628 - val_accuracy: 0.2123\n",
      "Epoch 2/100\n",
      "359/359 [==============================] - 25s 69ms/step - loss: 8.3237 - accuracy: 0.2072 - val_loss: 7.6144 - val_accuracy: 0.2633\n",
      "Epoch 3/100\n",
      "359/359 [==============================] - 22s 62ms/step - loss: 7.3459 - accuracy: 0.2322 - val_loss: 6.6588 - val_accuracy: 0.2905\n",
      "Epoch 4/100\n",
      "359/359 [==============================] - 22s 63ms/step - loss: 6.4066 - accuracy: 0.2527 - val_loss: 5.7228 - val_accuracy: 0.3226\n",
      "Epoch 5/100\n",
      "359/359 [==============================] - 24s 68ms/step - loss: 5.5078 - accuracy: 0.2878 - val_loss: 5.0976 - val_accuracy: 0.3010\n",
      "Epoch 6/100\n",
      "359/359 [==============================] - 23s 64ms/step - loss: 4.7475 - accuracy: 0.3267 - val_loss: 4.4828 - val_accuracy: 0.3108\n",
      "Epoch 7/100\n",
      "359/359 [==============================] - 23s 64ms/step - loss: 4.1224 - accuracy: 0.3512 - val_loss: 3.9360 - val_accuracy: 0.3652\n",
      "Epoch 8/100\n",
      "359/359 [==============================] - 23s 63ms/step - loss: 3.5895 - accuracy: 0.3759 - val_loss: 3.2584 - val_accuracy: 0.4302\n",
      "Epoch 9/100\n",
      "359/359 [==============================] - 22s 62ms/step - loss: 3.1489 - accuracy: 0.4107 - val_loss: 2.9579 - val_accuracy: 0.4050\n",
      "Epoch 10/100\n",
      "359/359 [==============================] - 22s 61ms/step - loss: 2.8056 - accuracy: 0.4308 - val_loss: 2.5372 - val_accuracy: 0.4874\n",
      "Epoch 11/100\n",
      "359/359 [==============================] - 51s 143ms/step - loss: 2.5270 - accuracy: 0.4552 - val_loss: 2.2507 - val_accuracy: 0.5356\n",
      "Epoch 12/100\n",
      "359/359 [==============================] - 53s 146ms/step - loss: 2.3231 - accuracy: 0.4720 - val_loss: 2.2428 - val_accuracy: 0.4818\n",
      "Epoch 13/100\n",
      "359/359 [==============================] - 49s 136ms/step - loss: 2.1462 - accuracy: 0.4906 - val_loss: 2.0486 - val_accuracy: 0.5265\n",
      "Epoch 14/100\n",
      "359/359 [==============================] - 50s 138ms/step - loss: 2.0205 - accuracy: 0.4976 - val_loss: 1.8491 - val_accuracy: 0.5573\n",
      "Epoch 15/100\n",
      "359/359 [==============================] - 50s 138ms/step - loss: 1.9031 - accuracy: 0.5142 - val_loss: 1.7142 - val_accuracy: 0.5789\n",
      "Epoch 16/100\n",
      "359/359 [==============================] - 50s 138ms/step - loss: 1.8330 - accuracy: 0.5226 - val_loss: 1.6701 - val_accuracy: 0.5782\n",
      "Epoch 17/100\n",
      "359/359 [==============================] - 51s 141ms/step - loss: 1.7591 - accuracy: 0.5348 - val_loss: 1.5916 - val_accuracy: 0.5957\n",
      "Epoch 18/100\n",
      "359/359 [==============================] - 49s 136ms/step - loss: 1.6969 - accuracy: 0.5475 - val_loss: 1.5620 - val_accuracy: 0.5894\n",
      "Epoch 19/100\n",
      "359/359 [==============================] - 51s 143ms/step - loss: 1.6527 - accuracy: 0.5535 - val_loss: 1.7277 - val_accuracy: 0.5175\n",
      "Epoch 20/100\n",
      "359/359 [==============================] - 51s 142ms/step - loss: 1.6137 - accuracy: 0.5583 - val_loss: 1.5214 - val_accuracy: 0.5950\n",
      "Epoch 21/100\n",
      "359/359 [==============================] - 51s 141ms/step - loss: 1.5872 - accuracy: 0.5686 - val_loss: 1.4793 - val_accuracy: 0.6089\n",
      "Epoch 22/100\n",
      "359/359 [==============================] - 50s 139ms/step - loss: 1.5553 - accuracy: 0.5715 - val_loss: 1.4883 - val_accuracy: 0.6075\n",
      "Epoch 23/100\n",
      "359/359 [==============================] - 50s 140ms/step - loss: 1.5285 - accuracy: 0.5819 - val_loss: 1.4612 - val_accuracy: 0.6068\n",
      "Epoch 24/100\n",
      "359/359 [==============================] - 51s 142ms/step - loss: 1.5069 - accuracy: 0.5833 - val_loss: 1.4520 - val_accuracy: 0.6041\n",
      "Epoch 25/100\n",
      "359/359 [==============================] - 52s 143ms/step - loss: 1.4893 - accuracy: 0.5879 - val_loss: 1.4092 - val_accuracy: 0.6320\n",
      "Epoch 26/100\n",
      "359/359 [==============================] - 52s 143ms/step - loss: 1.4822 - accuracy: 0.5899 - val_loss: 1.4220 - val_accuracy: 0.6131\n",
      "Epoch 27/100\n",
      "359/359 [==============================] - 52s 144ms/step - loss: 1.4665 - accuracy: 0.5972 - val_loss: 1.4272 - val_accuracy: 0.6201\n",
      "Epoch 28/100\n",
      "359/359 [==============================] - 50s 140ms/step - loss: 1.4448 - accuracy: 0.6105 - val_loss: 1.3971 - val_accuracy: 0.6313\n",
      "Epoch 29/100\n",
      "359/359 [==============================] - 52s 144ms/step - loss: 1.4487 - accuracy: 0.6025 - val_loss: 1.3782 - val_accuracy: 0.6411\n",
      "Epoch 30/100\n",
      "359/359 [==============================] - 53s 148ms/step - loss: 1.4361 - accuracy: 0.6118 - val_loss: 1.3875 - val_accuracy: 0.6299\n",
      "Epoch 31/100\n",
      "359/359 [==============================] - 51s 141ms/step - loss: 1.4334 - accuracy: 0.6147 - val_loss: 1.3884 - val_accuracy: 0.6306\n",
      "Epoch 32/100\n",
      "359/359 [==============================] - 52s 144ms/step - loss: 1.4256 - accuracy: 0.6168 - val_loss: 1.3559 - val_accuracy: 0.6529\n",
      "Epoch 33/100\n",
      "359/359 [==============================] - 52s 143ms/step - loss: 1.4146 - accuracy: 0.6150 - val_loss: 1.3790 - val_accuracy: 0.6480\n",
      "Epoch 34/100\n",
      "359/359 [==============================] - 51s 143ms/step - loss: 1.4094 - accuracy: 0.6228 - val_loss: 1.3792 - val_accuracy: 0.6362\n",
      "Epoch 35/100\n",
      "359/359 [==============================] - 52s 145ms/step - loss: 1.4043 - accuracy: 0.6265 - val_loss: 1.4069 - val_accuracy: 0.6306\n",
      "Epoch 36/100\n",
      "359/359 [==============================] - 53s 148ms/step - loss: 1.3968 - accuracy: 0.6260 - val_loss: 1.3533 - val_accuracy: 0.6578\n",
      "Epoch 37/100\n",
      "359/359 [==============================] - 53s 147ms/step - loss: 1.3962 - accuracy: 0.6310 - val_loss: 1.3526 - val_accuracy: 0.6439\n",
      "Epoch 38/100\n",
      "359/359 [==============================] - 53s 147ms/step - loss: 1.3828 - accuracy: 0.6374 - val_loss: 1.3720 - val_accuracy: 0.6425\n",
      "Epoch 39/100\n",
      "359/359 [==============================] - 53s 148ms/step - loss: 1.3805 - accuracy: 0.6377 - val_loss: 1.4028 - val_accuracy: 0.6418\n",
      "Epoch 40/100\n",
      "359/359 [==============================] - 52s 146ms/step - loss: 1.3774 - accuracy: 0.6388 - val_loss: 1.3546 - val_accuracy: 0.6641\n",
      "Epoch 41/100\n",
      "359/359 [==============================] - 53s 148ms/step - loss: 1.3777 - accuracy: 0.6400 - val_loss: 1.3646 - val_accuracy: 0.6487\n",
      "Epoch 42/100\n",
      "359/359 [==============================] - 52s 146ms/step - loss: 1.3695 - accuracy: 0.6418 - val_loss: 1.3773 - val_accuracy: 0.6501\n",
      "Epoch 43/100\n",
      "359/359 [==============================] - 52s 146ms/step - loss: 1.3697 - accuracy: 0.6387 - val_loss: 1.3836 - val_accuracy: 0.6536\n",
      "Epoch 44/100\n",
      "359/359 [==============================] - 53s 146ms/step - loss: 1.3750 - accuracy: 0.6437 - val_loss: 1.3645 - val_accuracy: 0.6592\n",
      "Epoch 45/100\n",
      "359/359 [==============================] - 53s 147ms/step - loss: 1.3626 - accuracy: 0.6450 - val_loss: 1.3273 - val_accuracy: 0.6718\n",
      "Epoch 46/100\n",
      "359/359 [==============================] - 52s 145ms/step - loss: 1.3560 - accuracy: 0.6496 - val_loss: 1.3453 - val_accuracy: 0.6683\n",
      "Epoch 47/100\n",
      "359/359 [==============================] - 53s 147ms/step - loss: 1.3556 - accuracy: 0.6510 - val_loss: 1.3712 - val_accuracy: 0.6480\n",
      "Epoch 48/100\n",
      "359/359 [==============================] - 53s 146ms/step - loss: 1.3504 - accuracy: 0.6545 - val_loss: 1.3611 - val_accuracy: 0.6585\n",
      "Epoch 49/100\n",
      "359/359 [==============================] - 53s 148ms/step - loss: 1.3486 - accuracy: 0.6576 - val_loss: 1.3603 - val_accuracy: 0.6641\n",
      "Epoch 50/100\n",
      "359/359 [==============================] - 54s 149ms/step - loss: 1.3462 - accuracy: 0.6604 - val_loss: 1.3308 - val_accuracy: 0.6697\n",
      "Epoch 51/100\n",
      "359/359 [==============================] - 52s 146ms/step - loss: 1.3475 - accuracy: 0.6578 - val_loss: 1.3692 - val_accuracy: 0.6564\n",
      "Epoch 52/100\n",
      "359/359 [==============================] - 54s 151ms/step - loss: 1.3462 - accuracy: 0.6606 - val_loss: 1.3482 - val_accuracy: 0.6627\n",
      "Epoch 53/100\n",
      "359/359 [==============================] - 53s 148ms/step - loss: 1.3355 - accuracy: 0.6652 - val_loss: 1.4295 - val_accuracy: 0.6418\n",
      "Epoch 54/100\n",
      "359/359 [==============================] - 55s 153ms/step - loss: 1.3353 - accuracy: 0.6629 - val_loss: 1.4133 - val_accuracy: 0.6362\n",
      "Epoch 55/100\n",
      "359/359 [==============================] - 53s 147ms/step - loss: 1.3473 - accuracy: 0.6599 - val_loss: 1.3537 - val_accuracy: 0.6676\n",
      "Epoch 56/100\n"
     ]
    },
    {
     "name": "stdout",
     "output_type": "stream",
     "text": [
      "359/359 [==============================] - 54s 149ms/step - loss: 1.3352 - accuracy: 0.6688 - val_loss: 1.3740 - val_accuracy: 0.6557\n",
      "Epoch 57/100\n",
      "359/359 [==============================] - 58s 162ms/step - loss: 1.3377 - accuracy: 0.6702 - val_loss: 1.3672 - val_accuracy: 0.6774\n",
      "Epoch 58/100\n",
      "359/359 [==============================] - 116s 322ms/step - loss: 1.3334 - accuracy: 0.6705 - val_loss: 1.4079 - val_accuracy: 0.6578\n",
      "Epoch 59/100\n",
      "359/359 [==============================] - 117s 326ms/step - loss: 1.3365 - accuracy: 0.6706 - val_loss: 1.3680 - val_accuracy: 0.6690\n",
      "Epoch 60/100\n",
      "359/359 [==============================] - 115s 319ms/step - loss: 1.3341 - accuracy: 0.6699 - val_loss: 1.3913 - val_accuracy: 0.6606\n",
      "Epoch 61/100\n",
      "359/359 [==============================] - 118s 327ms/step - loss: 1.3327 - accuracy: 0.6711 - val_loss: 1.3755 - val_accuracy: 0.6606\n",
      "Epoch 62/100\n",
      "359/359 [==============================] - 65s 180ms/step - loss: 1.3303 - accuracy: 0.6738 - val_loss: 1.3883 - val_accuracy: 0.6704\n",
      "Epoch 63/100\n",
      "359/359 [==============================] - 21s 59ms/step - loss: 1.3215 - accuracy: 0.6762 - val_loss: 1.3917 - val_accuracy: 0.6669\n",
      "Epoch 64/100\n",
      "359/359 [==============================] - 22s 62ms/step - loss: 1.3247 - accuracy: 0.6779 - val_loss: 1.3655 - val_accuracy: 0.6655\n",
      "Epoch 65/100\n",
      "359/359 [==============================] - 22s 62ms/step - loss: 1.3275 - accuracy: 0.6785 - val_loss: 1.3855 - val_accuracy: 0.6704\n",
      "Epoch 66/100\n",
      "359/359 [==============================] - 22s 62ms/step - loss: 1.3202 - accuracy: 0.6804 - val_loss: 1.3436 - val_accuracy: 0.6795\n",
      "Epoch 67/100\n",
      "359/359 [==============================] - 22s 62ms/step - loss: 1.3307 - accuracy: 0.6797 - val_loss: 1.3518 - val_accuracy: 0.6767\n",
      "Epoch 68/100\n",
      "359/359 [==============================] - 23s 63ms/step - loss: 1.3237 - accuracy: 0.6793 - val_loss: 1.3726 - val_accuracy: 0.6690\n",
      "Epoch 69/100\n",
      "359/359 [==============================] - 22s 62ms/step - loss: 1.3224 - accuracy: 0.6813 - val_loss: 1.3839 - val_accuracy: 0.6725\n",
      "Epoch 70/100\n",
      "359/359 [==============================] - 22s 62ms/step - loss: 1.3115 - accuracy: 0.6856 - val_loss: 1.4014 - val_accuracy: 0.6578\n",
      "Epoch 71/100\n",
      "359/359 [==============================] - 22s 62ms/step - loss: 1.3283 - accuracy: 0.6822 - val_loss: 1.3981 - val_accuracy: 0.6662\n",
      "Epoch 72/100\n",
      "359/359 [==============================] - 22s 62ms/step - loss: 1.3198 - accuracy: 0.6817 - val_loss: 1.3956 - val_accuracy: 0.6697\n",
      "Epoch 73/100\n",
      "359/359 [==============================] - 23s 63ms/step - loss: 1.3137 - accuracy: 0.6883 - val_loss: 1.4546 - val_accuracy: 0.6494\n",
      "Epoch 74/100\n",
      "359/359 [==============================] - 23s 63ms/step - loss: 1.3209 - accuracy: 0.6838 - val_loss: 1.3617 - val_accuracy: 0.6781\n",
      "Epoch 75/100\n",
      "359/359 [==============================] - 22s 62ms/step - loss: 1.3183 - accuracy: 0.6839 - val_loss: 1.3932 - val_accuracy: 0.6648\n",
      "Epoch 76/100\n",
      "359/359 [==============================] - 22s 62ms/step - loss: 1.3112 - accuracy: 0.6890 - val_loss: 1.3606 - val_accuracy: 0.6858\n",
      "Epoch 77/100\n",
      "359/359 [==============================] - 22s 62ms/step - loss: 1.3118 - accuracy: 0.6877 - val_loss: 1.3551 - val_accuracy: 0.6781\n",
      "Epoch 78/100\n",
      "359/359 [==============================] - 23s 64ms/step - loss: 1.3094 - accuracy: 0.6887 - val_loss: 1.3521 - val_accuracy: 0.6899\n",
      "Epoch 79/100\n",
      "359/359 [==============================] - 22s 62ms/step - loss: 1.3127 - accuracy: 0.6878 - val_loss: 1.4083 - val_accuracy: 0.6683\n",
      "Epoch 80/100\n",
      "359/359 [==============================] - 22s 62ms/step - loss: 1.3070 - accuracy: 0.6946 - val_loss: 1.3811 - val_accuracy: 0.6774\n",
      "Epoch 81/100\n",
      "359/359 [==============================] - 22s 62ms/step - loss: 1.3085 - accuracy: 0.6920 - val_loss: 1.4026 - val_accuracy: 0.6627\n",
      "Epoch 82/100\n",
      "359/359 [==============================] - 22s 62ms/step - loss: 1.3064 - accuracy: 0.6935 - val_loss: 1.3908 - val_accuracy: 0.6578\n",
      "Epoch 83/100\n",
      "359/359 [==============================] - 22s 62ms/step - loss: 1.3072 - accuracy: 0.6957 - val_loss: 1.3754 - val_accuracy: 0.6704\n",
      "Epoch 84/100\n",
      "359/359 [==============================] - 22s 62ms/step - loss: 1.3112 - accuracy: 0.6925 - val_loss: 1.3700 - val_accuracy: 0.6830\n",
      "Epoch 85/100\n",
      "359/359 [==============================] - 22s 62ms/step - loss: 1.3107 - accuracy: 0.6924 - val_loss: 1.3757 - val_accuracy: 0.6816\n",
      "Epoch 86/100\n",
      "359/359 [==============================] - 22s 62ms/step - loss: 1.3002 - accuracy: 0.6996 - val_loss: 1.3572 - val_accuracy: 0.6823\n",
      "Epoch 87/100\n",
      "359/359 [==============================] - 22s 62ms/step - loss: 1.3060 - accuracy: 0.6954 - val_loss: 1.3845 - val_accuracy: 0.6837\n",
      "Epoch 88/100\n",
      "359/359 [==============================] - 22s 62ms/step - loss: 1.3051 - accuracy: 0.6992 - val_loss: 1.3990 - val_accuracy: 0.6774\n",
      "Epoch 89/100\n",
      "359/359 [==============================] - 22s 62ms/step - loss: 1.2862 - accuracy: 0.7000 - val_loss: 1.4102 - val_accuracy: 0.6718\n",
      "Epoch 90/100\n",
      "359/359 [==============================] - 22s 62ms/step - loss: 1.2940 - accuracy: 0.6983 - val_loss: 1.3685 - val_accuracy: 0.6858\n",
      "Epoch 91/100\n",
      "359/359 [==============================] - 22s 62ms/step - loss: 1.2944 - accuracy: 0.6990 - val_loss: 1.3685 - val_accuracy: 0.6892\n",
      "Epoch 92/100\n",
      "359/359 [==============================] - 22s 62ms/step - loss: 1.2964 - accuracy: 0.7005 - val_loss: 1.4986 - val_accuracy: 0.6459\n",
      "Epoch 93/100\n",
      "359/359 [==============================] - 22s 63ms/step - loss: 1.3044 - accuracy: 0.7021 - val_loss: 1.3998 - val_accuracy: 0.6725\n",
      "Epoch 94/100\n",
      "359/359 [==============================] - 22s 62ms/step - loss: 1.3024 - accuracy: 0.7024 - val_loss: 1.3723 - val_accuracy: 0.6802\n",
      "Epoch 95/100\n",
      "359/359 [==============================] - 22s 62ms/step - loss: 1.2955 - accuracy: 0.7029 - val_loss: 1.3917 - val_accuracy: 0.6711\n",
      "Epoch 96/100\n",
      "359/359 [==============================] - 22s 62ms/step - loss: 1.2941 - accuracy: 0.7009 - val_loss: 1.3839 - val_accuracy: 0.6683\n",
      "Epoch 97/100\n",
      "359/359 [==============================] - 22s 62ms/step - loss: 1.2956 - accuracy: 0.7015 - val_loss: 1.4060 - val_accuracy: 0.6823\n",
      "Epoch 98/100\n",
      "359/359 [==============================] - 22s 62ms/step - loss: 1.2962 - accuracy: 0.7018 - val_loss: 1.3973 - val_accuracy: 0.6662\n",
      "Epoch 99/100\n",
      "359/359 [==============================] - 22s 62ms/step - loss: 1.2940 - accuracy: 0.7059 - val_loss: 1.3759 - val_accuracy: 0.6885\n",
      "Epoch 100/100\n",
      "359/359 [==============================] - 22s 62ms/step - loss: 1.2859 - accuracy: 0.7067 - val_loss: 1.4019 - val_accuracy: 0.6739\n"
     ]
    }
   ],
   "source": [
    "history = model.fit(x = train_generator,epochs = epochs,validation_data = validation_generator)"
   ]
  },
  {
   "cell_type": "code",
   "execution_count": 10,
   "id": "8469d81b",
   "metadata": {
    "execution": {
     "iopub.execute_input": "2021-08-24T15:11:46.074558Z",
     "iopub.status.busy": "2021-08-24T15:11:46.073548Z",
     "iopub.status.idle": "2021-08-24T15:11:46.469286Z",
     "shell.execute_reply": "2021-08-24T15:11:46.469842Z",
     "shell.execute_reply.started": "2021-08-24T14:09:46.302505Z"
    },
    "papermill": {
     "duration": 12.67253,
     "end_time": "2021-08-24T15:11:46.470061",
     "exception": false,
     "start_time": "2021-08-24T15:11:33.797531",
     "status": "completed"
    },
    "tags": []
   },
   "outputs": [
    {
     "data": {
      "image/png": "[encoded data removed]",
      "text/plain": [
       "<Figure size 432x288 with 1 Axes>"
      ]
     },
     "metadata": {
      "needs_background": "light"
     },
     "output_type": "display_data"
    },
    {
     "data": {
      "text/plain": [
       "<Figure size 432x288 with 0 Axes>"
      ]
     },
     "metadata": {},
     "output_type": "display_data"
    },
    {
     "data": {
      "image/png": "[encoded data removed]",
      "text/plain": [
       "<Figure size 432x288 with 1 Axes>"
      ]
     },
     "metadata": {
      "needs_background": "light"
     },
     "output_type": "display_data"
    }
   ],
   "source": [
    "import matplotlib.pyplot as plt\n",
    "accuracy = history.history['accuracy']\n",
    "val_acc = history.history['val_accuracy']\n",
    "loss = history.history['loss']\n",
    "val_loss = history.history['val_loss']\n",
    "\n",
    "epochs = range(len(accuracy))\n",
    "\n",
    "plt.plot(epochs, accuracy, 'r', label='Training accuracy')\n",
    "plt.plot(epochs, val_acc, 'b', label='Validation accuracy')\n",
    "plt.title('Training and validation accuracy')\n",
    "plt.legend(loc=0)\n",
    "plt.figure()\n",
    "\n",
    "\n",
    "plt.show()\n",
    "\n",
    "\n",
    "\n",
    "plt.plot(epochs, loss, 'r', label='Training loss')\n",
    "plt.plot(epochs, val_loss, 'b', label='Validation loss')\n",
    "plt.title('Training and validation loss')\n",
    "plt.legend(loc=0)\n",
    "plt.show()"
   ]
  },
  {
   "cell_type": "code",
   "execution_count": 11,
   "id": "e390dc8b",
   "metadata": {
    "execution": {
     "iopub.execute_input": "2021-08-24T15:12:11.595940Z",
     "iopub.status.busy": "2021-08-24T15:12:11.594781Z",
     "iopub.status.idle": "2021-08-24T15:12:11.767155Z",
     "shell.execute_reply": "2021-08-24T15:12:11.766300Z",
     "shell.execute_reply.started": "2021-08-24T14:10:30.034363Z"
    },
    "papermill": {
     "duration": 13.103415,
     "end_time": "2021-08-24T15:12:11.767316",
     "exception": false,
     "start_time": "2021-08-24T15:11:58.663901",
     "status": "completed"
    },
    "tags": []
   },
   "outputs": [],
   "source": [
    "model.save('model_fer2013_val67.h5')"
   ]
  },
  {
   "cell_type": "code",
   "execution_count": 12,
   "id": "b09517f2",
   "metadata": {
    "execution": {
     "iopub.execute_input": "2021-08-24T15:12:36.475056Z",
     "iopub.status.busy": "2021-08-24T15:12:36.474404Z",
     "iopub.status.idle": "2021-08-24T15:13:07.339807Z",
     "shell.execute_reply": "2021-08-24T15:13:07.339279Z",
     "shell.execute_reply.started": "2021-08-24T14:10:30.653793Z"
    },
    "papermill": {
     "duration": 43.220067,
     "end_time": "2021-08-24T15:13:07.339990",
     "exception": false,
     "start_time": "2021-08-24T15:12:24.119923",
     "status": "completed"
    },
    "tags": []
   },
   "outputs": [
    {
     "name": "stdout",
     "output_type": "stream",
     "text": [
      "359/359 [==============================] - 19s 53ms/step - loss: 1.1134 - accuracy: 0.7722\n",
      "23/23 [==============================] - 1s 28ms/step - loss: 1.4019 - accuracy: 0.6739\n",
      "final train accuracy = 77.22 , validation accuracy = 67.39\n"
     ]
    }
   ],
   "source": [
    "train_loss, train_acc = model.evaluate(train_generator)\n",
    "test_loss, test_acc   = model.evaluate(validation_generator)\n",
    "print(\"final train accuracy = {:.2f} , validation accuracy = {:.2f}\".format(train_acc*100, test_acc*100))"
   ]
  },
  {
   "cell_type": "code",
   "execution_count": 14,
   "id": "79ef2373",
   "metadata": {
    "execution": {
     "iopub.execute_input": "2021-08-24T15:13:32.866263Z",
     "iopub.status.busy": "2021-08-24T15:13:32.865528Z",
     "iopub.status.idle": "2021-08-24T15:13:33.029364Z",
     "shell.execute_reply": "2021-08-24T15:13:33.029881Z",
     "shell.execute_reply.started": "2021-08-24T14:11:48.719041Z"
    },
    "papermill": {
     "duration": 12.683887,
     "end_time": "2021-08-24T15:13:33.030062",
     "exception": false,
     "start_time": "2021-08-24T15:13:20.346175",
     "status": "completed"
    },
    "tags": []
   },
   "outputs": [
    {
     "name": "stdout",
     "output_type": "stream",
     "text": [
      "(48, 48)\n"
     ]
    },
    {
     "data": {
      "image/png": "[encoded data removed]",
      "text/plain": [
       "<Figure size 432x288 with 1 Axes>"
      ]
     },
     "metadata": {
      "needs_background": "light"
     },
     "output_type": "display_data"
    }
   ],
   "source": [
    "img = image.load_img(\"/kaggle/input/fer2013/test/fear/PrivateTest_11014592.jpg\",target_size = (48,48),color_mode = \"grayscale\")\n",
    "img = np.array(img)\n",
    "plt.imshow(img)\n",
    "print(img.shape)"
   ]
  },
  {
   "cell_type": "code",
   "execution_count": 15,
   "id": "56bb214c",
   "metadata": {
    "execution": {
     "iopub.execute_input": "2021-08-24T15:13:59.493291Z",
     "iopub.status.busy": "2021-08-24T15:13:59.492283Z",
     "iopub.status.idle": "2021-08-24T15:13:59.495361Z",
     "shell.execute_reply": "2021-08-24T15:13:59.495928Z",
     "shell.execute_reply.started": "2021-08-24T14:11:51.258726Z"
    },
    "papermill": {
     "duration": 12.900899,
     "end_time": "2021-08-24T15:13:59.496082",
     "exception": false,
     "start_time": "2021-08-24T15:13:46.595183",
     "status": "completed"
    },
    "tags": []
   },
   "outputs": [],
   "source": [
    "label_dict = {0:'Angry',1:'Disgust',2:'Fear',3:'Happy',4:'Neutral',5:'Sad',6:'Surprise'}"
   ]
  },
  {
   "cell_type": "code",
   "execution_count": 16,
   "id": "9a208d59",
   "metadata": {
    "execution": {
     "iopub.execute_input": "2021-08-24T15:14:25.112058Z",
     "iopub.status.busy": "2021-08-24T15:14:25.111179Z",
     "iopub.status.idle": "2021-08-24T15:14:25.415032Z",
     "shell.execute_reply": "2021-08-24T15:14:25.414442Z",
     "shell.execute_reply.started": "2021-08-24T14:11:51.745185Z"
    },
    "papermill": {
     "duration": 13.435242,
     "end_time": "2021-08-24T15:14:25.415207",
     "exception": false,
     "start_time": "2021-08-24T15:14:11.979965",
     "status": "completed"
    },
    "tags": []
   },
   "outputs": [
    {
     "name": "stdout",
     "output_type": "stream",
     "text": [
      "[0.0, 0.0, 1.0, 0.0, 0.0, 6.3208744e-21, 0.0]\n"
     ]
    }
   ],
   "source": [
    "img = np.expand_dims(img,axis = 0) #makes image shape (1,48,48)\n",
    "img = img.reshape(1,48,48,1)\n",
    "result = model.predict(img)\n",
    "result = list(result[0])\n",
    "print(result)"
   ]
  },
  {
   "cell_type": "code",
   "execution_count": 17,
   "id": "5505ded8",
   "metadata": {
    "execution": {
     "iopub.execute_input": "2021-08-24T15:14:50.404485Z",
     "iopub.status.busy": "2021-08-24T15:14:50.403639Z",
     "iopub.status.idle": "2021-08-24T15:14:50.407624Z",
     "shell.execute_reply": "2021-08-24T15:14:50.408256Z",
     "shell.execute_reply.started": "2021-08-24T14:11:53.041808Z"
    },
    "papermill": {
     "duration": 12.525735,
     "end_time": "2021-08-24T15:14:50.408451",
     "exception": false,
     "start_time": "2021-08-24T15:14:37.882716",
     "status": "completed"
    },
    "tags": []
   },
   "outputs": [
    {
     "name": "stdout",
     "output_type": "stream",
     "text": [
      "Fear\n"
     ]
    }
   ],
   "source": [
    "img_index = result.index(max(result))\n",
    "print(label_dict[img_index])\n",
    "plt.show()"
   ]
  },
  {
   "cell_type": "code",
   "execution_count": 18,
   "id": "e5cd8af4",
   "metadata": {
    "execution": {
     "iopub.execute_input": "2021-08-24T15:15:16.207295Z",
     "iopub.status.busy": "2021-08-24T15:15:16.206212Z",
     "iopub.status.idle": "2021-08-24T15:15:16.265953Z",
     "shell.execute_reply": "2021-08-24T15:15:16.265375Z",
     "shell.execute_reply.started": "2021-08-24T14:11:55.693779Z"
    },
    "papermill": {
     "duration": 12.512905,
     "end_time": "2021-08-24T15:15:16.266146",
     "exception": false,
     "start_time": "2021-08-24T15:15:03.753241",
     "status": "completed"
    },
    "tags": []
   },
   "outputs": [],
   "source": [
    "model.save_weights('model_weights.h5')"
   ]
  },
  {
   "cell_type": "code",
   "execution_count": null,
   "id": "ce611d71",
   "metadata": {
    "papermill": {
     "duration": 12.517961,
     "end_time": "2021-08-24T15:15:40.738450",
     "exception": false,
     "start_time": "2021-08-24T15:15:28.220489",
     "status": "completed"
    },
    "tags": []
   },
   "outputs": [],
   "source": []
  }
 ],
 "metadata": {
  "kernelspec": {
   "display_name": "Python 3",
   "language": "python",
   "name": "python3"
  },
  "language_info": {
   "codemirror_mode": {
    "name": "ipython",
    "version": 3
   },
   "file_extension": ".py",
   "mimetype": "text/x-python",
   "name": "python",
   "nbconvert_exporter": "python",
   "pygments_lexer": "ipython3",
   "version": "3.8.8"
  },
  "papermill": {
   "default_parameters": {},
   "duration": 3813.29984,
   "end_time": "2021-08-24T15:15:55.379548",
   "environment_variables": {},
   "exception": null,
   "input_path": "__notebook__.ipynb",
   "output_path": "__notebook__.ipynb",
   "parameters": {},
   "start_time": "2021-08-24T14:12:22.079708",
   "version": "2.3.3"
  }
 },
 "nbformat": 4,
 "nbformat_minor": 5
}
