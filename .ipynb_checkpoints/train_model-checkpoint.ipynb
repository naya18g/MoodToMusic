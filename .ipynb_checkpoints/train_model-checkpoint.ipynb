{
 "cells": [
  {
   "cell_type": "code",
   "execution_count": 1,
   "id": "596e37ea",
   "metadata": {
    "execution": {
     "iopub.execute_input": "2021-08-24T14:12:54.218163Z",
     "iopub.status.busy": "2021-08-24T14:12:54.217073Z",
     "iopub.status.idle": "2021-08-24T14:13:01.772362Z",
     "shell.execute_reply": "2021-08-24T14:13:01.771708Z",
     "shell.execute_reply.started": "2021-08-24T12:01:27.455192Z"
    },
    "papermill": {
     "duration": 7.713848,
     "end_time": "2021-08-24T14:13:01.772516",
     "exception": false,
     "start_time": "2021-08-24T14:12:54.058668",
     "status": "completed"
    },
    "tags": []
   },
   "outputs": [],
   "source": [
    "import numpy as np \n",
    "import pandas as pd\n",
    "import os\n",
    "import matplotlib.pyplot as plt\n",
    "import seaborn as sns\n",
    "import tensorflow as tf\n",
    "import keras\n",
    "from keras.preprocessing import image\n",
    "from keras.models import Sequential\n",
    "from keras.layers import Conv2D, MaxPool2D, Flatten,Dense,Dropout,BatchNormalization\n",
    "from tensorflow.keras.preprocessing.image import ImageDataGenerator\n",
    "import cv2\n",
    "from tensorflow.keras.applications import VGG16, InceptionResNetV2\n",
    "from keras import regularizers\n",
    "from tensorflow.keras.optimizers import Adam,RMSprop,SGD,Adamax\n"
   ]
  },
  {
   "cell_type": "code",
   "execution_count": 2,
   "id": "f650bf42",
   "metadata": {
    "execution": {
     "iopub.execute_input": "2021-08-24T14:13:01.954966Z",
     "iopub.status.busy": "2021-08-24T14:13:01.953944Z",
     "iopub.status.idle": "2021-08-24T14:13:01.957857Z",
     "shell.execute_reply": "2021-08-24T14:13:01.957329Z",
     "shell.execute_reply.started": "2021-08-24T12:01:34.125652Z"
    },
    "papermill": {
     "duration": 0.097207,
     "end_time": "2021-08-24T14:13:01.958033",
     "exception": false,
     "start_time": "2021-08-24T14:13:01.860826",
     "status": "completed"
    },
    "tags": []
   },
   "outputs": [],
   "source": [
    "train_dir = \"FER13/train\"\n",
    "#passing the path with training images\n",
    "test_dir = \"FER13/test\""
   ]
  },
  {
   "cell_type": "code",
   "execution_count": 3,
   "id": "fff7306e",
   "metadata": {
    "execution": {
     "iopub.execute_input": "2021-08-24T14:13:02.143991Z",
     "iopub.status.busy": "2021-08-24T14:13:02.142971Z",
     "iopub.status.idle": "2021-08-24T14:13:02.145838Z",
     "shell.execute_reply": "2021-08-24T14:13:02.146423Z",
     "shell.execute_reply.started": "2021-08-24T12:01:34.136856Z"
    },
    "papermill": {
     "duration": 0.098909,
     "end_time": "2021-08-24T14:13:02.146627",
     "exception": false,
     "start_time": "2021-08-24T14:13:02.047718",
     "status": "completed"
    },
    "tags": []
   },
   "outputs": [],
   "source": [
    "img_size = 48"
   ]
  },
  {
   "cell_type": "code",
   "execution_count": 5,
   "id": "d78f6649",
   "metadata": {
    "execution": {
     "iopub.execute_input": "2021-08-24T14:13:02.333373Z",
     "iopub.status.busy": "2021-08-24T14:13:02.332231Z",
     "iopub.status.idle": "2021-08-24T14:13:02.339157Z",
     "shell.execute_reply": "2021-08-24T14:13:02.338608Z",
     "shell.execute_reply.started": "2021-08-24T12:01:34.145553Z"
    },
    "papermill": {
     "duration": 0.105911,
     "end_time": "2021-08-24T14:13:02.339303",
     "exception": false,
     "start_time": "2021-08-24T14:13:02.233392",
     "status": "completed"
    },
    "tags": []
   },
   "outputs": [],
   "source": [
    "train_datagen = ImageDataGenerator(#rotation_range = 180,\n",
    "                                         width_shift_range = 0.1,\n",
    "                                         height_shift_range = 0.1,\n",
    "                                         horizontal_flip = True,\n",
    "                                         rescale = 1./255,\n",
    "                                         #zoom_range = 0.2,\n",
    "                                         validation_split = 0.2\n",
    "                                        )\n",
    "validation_datagen = ImageDataGenerator(rescale = 1./255,\n",
    "                                         validation_split = 0.2)"
   ]
  },
  {
   "cell_type": "code",
   "execution_count": 6,
   "id": "7762bc7f",
   "metadata": {
    "execution": {
     "iopub.execute_input": "2021-08-24T14:13:02.521695Z",
     "iopub.status.busy": "2021-08-24T14:13:02.520936Z",
     "iopub.status.idle": "2021-08-24T14:13:03.308033Z",
     "shell.execute_reply": "2021-08-24T14:13:03.307062Z",
     "shell.execute_reply.started": "2021-08-24T12:01:34.157253Z"
    },
    "papermill": {
     "duration": 0.881368,
     "end_time": "2021-08-24T14:13:03.308269",
     "exception": false,
     "start_time": "2021-08-24T14:13:02.426901",
     "status": "completed"
    },
    "tags": []
   },
   "outputs": [
    {
     "name": "stdout",
     "output_type": "stream",
     "text": [
      "Found 22968 images belonging to 7 classes.\n",
      "Found 1432 images belonging to 7 classes.\n"
     ]
    }
   ],
   "source": [
    "train_generator = train_datagen.flow_from_directory(directory = train_dir,\n",
    "                                                    target_size = (img_size,img_size),\n",
    "                                                    batch_size = 64,\n",
    "                                                    color_mode = \"grayscale\",\n",
    "                                                    class_mode = \"categorical\",\n",
    "                                                    subset = \"training\"\n",
    "                                                   )\n",
    "validation_generator = validation_datagen.flow_from_directory( directory = test_dir,\n",
    "                                                              target_size = (img_size,img_size),\n",
    "                                                              batch_size = 64,\n",
    "                                                              color_mode = \"grayscale\",\n",
    "                                                              class_mode = \"categorical\",\n",
    "                                                              subset = \"validation\"\n",
    "                                                             )"
   ]
  },
  {
   "cell_type": "code",
   "execution_count": 7,
   "id": "15e9a72e",
   "metadata": {
    "execution": {
     "iopub.execute_input": "2021-08-24T14:13:03.506888Z",
     "iopub.status.busy": "2021-08-24T14:13:03.505767Z",
     "iopub.status.idle": "2021-08-24T14:13:06.397802Z",
     "shell.execute_reply": "2021-08-24T14:13:06.396688Z",
     "shell.execute_reply.started": "2021-08-24T12:01:34.953800Z"
    },
    "papermill": {
     "duration": 2.996189,
     "end_time": "2021-08-24T14:13:06.398008",
     "exception": false,
     "start_time": "2021-08-24T14:13:03.401819",
     "status": "completed"
    },
    "tags": []
   },
   "outputs": [],
   "source": [
    "model = tf.keras.Sequential([\n",
    "\n",
    "        # input layer\n",
    "        tf.keras.layers.Conv2D(32,(3,3),activation = 'relu',input_shape=(48,48,1)),\n",
    "        tf.keras.layers.Conv2D(64,(3,3), padding='same', activation='relu' ),\n",
    "        tf.keras.layers.BatchNormalization(),\n",
    "        tf.keras.layers.MaxPooling2D(2,2),\n",
    "        tf.keras.layers.Dropout(0.25),\n",
    "\n",
    "        # 1st hidden dense layer\n",
    "        tf.keras.layers.Conv2D(128,(5,5), padding='same', activation='relu'),\n",
    "        tf.keras.layers.BatchNormalization(),\n",
    "        tf.keras.layers.MaxPooling2D(2,2),\n",
    "        tf.keras.layers.Dropout(0.25),\n",
    "    \n",
    "        # 2nd hidden dense layer\n",
    "        tf.keras.layers.Conv2D(512,(3,3), padding='same', activation='relu',kernel_regularizer=tf.keras.regularizers.l2(0.01)),\n",
    "        tf.keras.layers.BatchNormalization(),\n",
    "        tf.keras.layers.MaxPooling2D(2,2),\n",
    "        tf.keras.layers.Dropout(0.25),\n",
    "    \n",
    "        # 3rd hidden dense layer\n",
    "        tf.keras.layers.Conv2D(512,(3,3), padding='same', activation='relu',kernel_regularizer=tf.keras.regularizers.l2(0.01)),\n",
    "        tf.keras.layers.BatchNormalization(),\n",
    "        tf.keras.layers.MaxPooling2D(2,2),\n",
    "        tf.keras.layers.Dropout(0.25),\n",
    "    \n",
    "        # Flatten layer\n",
    "        tf.keras.layers.Flatten(),\n",
    "        tf.keras.layers.Dense(256, activation='relu'),\n",
    "        tf.keras.layers.BatchNormalization(),\n",
    "        tf.keras.layers.Dropout(0.25),\n",
    "    \n",
    "        tf.keras.layers.Dense(512, activation='relu'),\n",
    "        tf.keras.layers.BatchNormalization(),\n",
    "        tf.keras.layers.Dropout(0.25),\n",
    "        # output layer\n",
    "        tf.keras.layers.Dense(7, activation='softmax')\n",
    "    ])"
   ]
  },
  {
   "cell_type": "code",
   "execution_count": 8,
   "id": "14b784e8",
   "metadata": {
    "execution": {
     "iopub.execute_input": "2021-08-24T14:13:06.598155Z",
     "iopub.status.busy": "2021-08-24T14:13:06.590962Z",
     "iopub.status.idle": "2021-08-24T14:13:06.627423Z",
     "shell.execute_reply": "2021-08-24T14:13:06.626854Z",
     "shell.execute_reply.started": "2021-08-24T13:08:12.657190Z"
    },
    "papermill": {
     "duration": 0.138572,
     "end_time": "2021-08-24T14:13:06.627600",
     "exception": false,
     "start_time": "2021-08-24T14:13:06.489028",
     "status": "completed"
    },
    "tags": []
   },
   "outputs": [
    {
     "name": "stdout",
     "output_type": "stream",
     "text": [
      "Model: \"sequential\"\n",
      "_________________________________________________________________\n",
      "Layer (type)                 Output Shape              Param #   \n",
      "=================================================================\n",
      "conv2d (Conv2D)              (None, 46, 46, 32)        320       \n",
      "_________________________________________________________________\n",
      "conv2d_1 (Conv2D)            (None, 46, 46, 64)        18496     \n",
      "_________________________________________________________________\n",
      "batch_normalization (BatchNo (None, 46, 46, 64)        256       \n",
      "_________________________________________________________________\n",
      "max_pooling2d (MaxPooling2D) (None, 23, 23, 64)        0         \n",
      "_________________________________________________________________\n",
      "dropout (Dropout)            (None, 23, 23, 64)        0         \n",
      "_________________________________________________________________\n",
      "conv2d_2 (Conv2D)            (None, 23, 23, 128)       204928    \n",
      "_________________________________________________________________\n",
      "batch_normalization_1 (Batch (None, 23, 23, 128)       512       \n",
      "_________________________________________________________________\n",
      "max_pooling2d_1 (MaxPooling2 (None, 11, 11, 128)       0         \n",
      "_________________________________________________________________\n",
      "dropout_1 (Dropout)          (None, 11, 11, 128)       0         \n",
      "_________________________________________________________________\n",
      "conv2d_3 (Conv2D)            (None, 11, 11, 512)       590336    \n",
      "_________________________________________________________________\n",
      "batch_normalization_2 (Batch (None, 11, 11, 512)       2048      \n",
      "_________________________________________________________________\n",
      "max_pooling2d_2 (MaxPooling2 (None, 5, 5, 512)         0         \n",
      "_________________________________________________________________\n",
      "dropout_2 (Dropout)          (None, 5, 5, 512)         0         \n",
      "_________________________________________________________________\n",
      "conv2d_4 (Conv2D)            (None, 5, 5, 512)         2359808   \n",
      "_________________________________________________________________\n",
      "batch_normalization_3 (Batch (None, 5, 5, 512)         2048      \n",
      "_________________________________________________________________\n",
      "max_pooling2d_3 (MaxPooling2 (None, 2, 2, 512)         0         \n",
      "_________________________________________________________________\n",
      "dropout_3 (Dropout)          (None, 2, 2, 512)         0         \n",
      "_________________________________________________________________\n",
      "flatten (Flatten)            (None, 2048)              0         \n",
      "_________________________________________________________________\n",
      "dense (Dense)                (None, 256)               524544    \n",
      "_________________________________________________________________\n",
      "batch_normalization_4 (Batch (None, 256)               1024      \n",
      "_________________________________________________________________\n",
      "dropout_4 (Dropout)          (None, 256)               0         \n",
      "_________________________________________________________________\n",
      "dense_1 (Dense)              (None, 512)               131584    \n",
      "_________________________________________________________________\n",
      "batch_normalization_5 (Batch (None, 512)               2048      \n",
      "_________________________________________________________________\n",
      "dropout_5 (Dropout)          (None, 512)               0         \n",
      "_________________________________________________________________\n",
      "dense_2 (Dense)              (None, 7)                 3591      \n",
      "=================================================================\n",
      "Total params: 3,841,543\n",
      "Trainable params: 3,837,575\n",
      "Non-trainable params: 3,968\n",
      "_________________________________________________________________\n"
     ]
    }
   ],
   "source": [
    "optimiser = tf.keras.optimizers.Adam(lr=0.0001)\n",
    "model.compile(optimizer=optimiser,\n",
    "                  loss='categorical_crossentropy',\n",
    "                  metrics=['accuracy'])\n",
    "\n",
    "model.summary()"
   ]
  },
  {
   "cell_type": "code",
   "execution_count": 9,
   "id": "df8c6ade",
   "metadata": {
    "execution": {
     "iopub.execute_input": "2021-08-24T14:13:06.811847Z",
     "iopub.status.busy": "2021-08-24T14:13:06.811115Z",
     "iopub.status.idle": "2021-08-24T14:13:06.816455Z",
     "shell.execute_reply": "2021-08-24T14:13:06.815858Z",
     "shell.execute_reply.started": "2021-08-24T13:08:24.954206Z"
    },
    "papermill": {
     "duration": 0.098805,
     "end_time": "2021-08-24T14:13:06.816584",
     "exception": false,
     "start_time": "2021-08-24T14:13:06.717779",
     "status": "completed"
    },
    "tags": []
   },
   "outputs": [],
   "source": [
    "epochs = 100\n",
    "batch_size = 64"
   ]
  },
  {
   "cell_type": "code",
   "execution_count": 10,
   "id": "bd35adae",
   "metadata": {
    "execution": {
     "iopub.execute_input": "2021-08-24T14:13:07.038436Z",
     "iopub.status.busy": "2021-08-24T14:13:07.037520Z",
     "iopub.status.idle": "2021-08-24T15:11:20.822120Z",
     "shell.execute_reply": "2021-08-24T15:11:20.821550Z",
     "shell.execute_reply.started": "2021-08-24T13:08:25.361546Z"
    },
    "papermill": {
     "duration": 3493.917397,
     "end_time": "2021-08-24T15:11:20.822294",
     "exception": false,
     "start_time": "2021-08-24T14:13:06.904897",
     "status": "completed"
    },
    "tags": []
   },
   "outputs": [
    {
     "name": "stdout",
     "output_type": "stream",
     "text": [
      "Epoch 1/100\n",
      "359/359 [==============================] - 99s 250ms/step - loss: 9.6030 - accuracy: 0.1750 - val_loss: 8.5829 - val_accuracy: 0.2472\n",
      "Epoch 2/100\n",
      "359/359 [==============================] - 34s 94ms/step - loss: 8.5330 - accuracy: 0.1999 - val_loss: 7.5313 - val_accuracy: 0.2716\n",
      "Epoch 3/100\n",
      "359/359 [==============================] - 34s 95ms/step - loss: 7.5080 - accuracy: 0.2298 - val_loss: 6.5605 - val_accuracy: 0.2591\n",
      "Epoch 4/100\n",
      "359/359 [==============================] - 34s 95ms/step - loss: 6.5310 - accuracy: 0.2329 - val_loss: 5.6285 - val_accuracy: 0.2926\n",
      "Epoch 5/100\n",
      "359/359 [==============================] - 34s 96ms/step - loss: 5.5965 - accuracy: 0.2595 - val_loss: 4.7785 - val_accuracy: 0.3352\n",
      "Epoch 6/100\n",
      "359/359 [==============================] - 34s 95ms/step - loss: 4.7853 - accuracy: 0.2945 - val_loss: 4.1736 - val_accuracy: 0.3443\n",
      "Epoch 7/100\n",
      "359/359 [==============================] - 34s 94ms/step - loss: 4.0958 - accuracy: 0.3397 - val_loss: 3.5271 - val_accuracy: 0.3966\n",
      "Epoch 8/100\n",
      "359/359 [==============================] - 34s 94ms/step - loss: 3.5612 - accuracy: 0.3585 - val_loss: 3.8573 - val_accuracy: 0.3087\n",
      "Epoch 9/100\n",
      "359/359 [==============================] - 34s 95ms/step - loss: 3.1333 - accuracy: 0.3859 - val_loss: 2.8142 - val_accuracy: 0.4302\n",
      "Epoch 10/100\n",
      "359/359 [==============================] - 35s 97ms/step - loss: 2.8112 - accuracy: 0.4038 - val_loss: 2.5755 - val_accuracy: 0.4218\n",
      "Epoch 11/100\n",
      "359/359 [==============================] - 33s 93ms/step - loss: 2.5298 - accuracy: 0.4373 - val_loss: 2.2216 - val_accuracy: 0.4874\n",
      "Epoch 12/100\n",
      "359/359 [==============================] - 34s 94ms/step - loss: 2.3029 - accuracy: 0.4609 - val_loss: 2.1212 - val_accuracy: 0.4895\n",
      "Epoch 13/100\n",
      "359/359 [==============================] - 35s 96ms/step - loss: 2.1559 - accuracy: 0.4748 - val_loss: 2.0412 - val_accuracy: 0.4979\n",
      "Epoch 14/100\n",
      "359/359 [==============================] - 34s 96ms/step - loss: 2.0163 - accuracy: 0.4839 - val_loss: 1.8184 - val_accuracy: 0.5517\n",
      "Epoch 15/100\n",
      "359/359 [==============================] - 34s 94ms/step - loss: 1.9124 - accuracy: 0.5028 - val_loss: 1.9477 - val_accuracy: 0.5028\n",
      "Epoch 16/100\n",
      "359/359 [==============================] - 34s 96ms/step - loss: 1.8216 - accuracy: 0.5198 - val_loss: 1.6787 - val_accuracy: 0.5580\n",
      "Epoch 17/100\n",
      "359/359 [==============================] - 35s 98ms/step - loss: 1.7667 - accuracy: 0.5285 - val_loss: 1.7238 - val_accuracy: 0.5293\n",
      "Epoch 18/100\n",
      "359/359 [==============================] - 35s 98ms/step - loss: 1.7006 - accuracy: 0.5413 - val_loss: 1.5856 - val_accuracy: 0.5754\n",
      "Epoch 19/100\n",
      "359/359 [==============================] - 35s 96ms/step - loss: 1.6540 - accuracy: 0.5433 - val_loss: 1.5110 - val_accuracy: 0.5929\n",
      "Epoch 20/100\n",
      "359/359 [==============================] - 35s 98ms/step - loss: 1.6212 - accuracy: 0.5543 - val_loss: 1.5021 - val_accuracy: 0.6103\n",
      "Epoch 21/100\n",
      "359/359 [==============================] - 35s 98ms/step - loss: 1.5704 - accuracy: 0.5711 - val_loss: 1.4539 - val_accuracy: 0.6061\n",
      "Epoch 22/100\n",
      "359/359 [==============================] - 35s 98ms/step - loss: 1.5506 - accuracy: 0.5741 - val_loss: 1.4863 - val_accuracy: 0.5971\n",
      "Epoch 23/100\n",
      "359/359 [==============================] - 36s 99ms/step - loss: 1.5248 - accuracy: 0.5834 - val_loss: 1.4507 - val_accuracy: 0.6068\n",
      "Epoch 24/100\n",
      "359/359 [==============================] - 36s 99ms/step - loss: 1.5005 - accuracy: 0.5857 - val_loss: 1.4478 - val_accuracy: 0.6047\n",
      "Epoch 25/100\n",
      "359/359 [==============================] - 35s 99ms/step - loss: 1.4820 - accuracy: 0.6001 - val_loss: 1.4416 - val_accuracy: 0.5985\n",
      "Epoch 26/100\n",
      "359/359 [==============================] - 35s 98ms/step - loss: 1.5012 - accuracy: 0.5829 - val_loss: 1.4111 - val_accuracy: 0.6138\n",
      "Epoch 27/100\n",
      "359/359 [==============================] - 35s 97ms/step - loss: 1.4561 - accuracy: 0.6033 - val_loss: 1.4537 - val_accuracy: 0.6089\n",
      "Epoch 28/100\n",
      "359/359 [==============================] - 35s 96ms/step - loss: 1.4582 - accuracy: 0.6008 - val_loss: 1.4002 - val_accuracy: 0.6159\n",
      "Epoch 29/100\n",
      "359/359 [==============================] - 34s 94ms/step - loss: 1.4422 - accuracy: 0.6054 - val_loss: 1.4139 - val_accuracy: 0.6166\n",
      "Epoch 30/100\n",
      "359/359 [==============================] - 35s 97ms/step - loss: 1.4311 - accuracy: 0.6064 - val_loss: 1.3740 - val_accuracy: 0.6299\n",
      "Epoch 31/100\n",
      "359/359 [==============================] - 35s 97ms/step - loss: 1.4175 - accuracy: 0.6152 - val_loss: 1.4097 - val_accuracy: 0.6152\n",
      "Epoch 32/100\n",
      "359/359 [==============================] - 34s 94ms/step - loss: 1.4144 - accuracy: 0.6122 - val_loss: 1.3745 - val_accuracy: 0.6299\n",
      "Epoch 33/100\n",
      "359/359 [==============================] - 35s 98ms/step - loss: 1.3998 - accuracy: 0.6243 - val_loss: 1.3928 - val_accuracy: 0.6327\n",
      "Epoch 34/100\n",
      "359/359 [==============================] - 33s 92ms/step - loss: 1.3997 - accuracy: 0.6237 - val_loss: 1.3551 - val_accuracy: 0.6362\n",
      "Epoch 35/100\n",
      "359/359 [==============================] - 35s 98ms/step - loss: 1.3868 - accuracy: 0.6288 - val_loss: 1.3711 - val_accuracy: 0.6278\n",
      "Epoch 36/100\n",
      "359/359 [==============================] - 33s 93ms/step - loss: 1.3889 - accuracy: 0.6272 - val_loss: 1.3582 - val_accuracy: 0.6376\n",
      "Epoch 37/100\n",
      "359/359 [==============================] - 35s 98ms/step - loss: 1.3921 - accuracy: 0.6288 - val_loss: 1.3712 - val_accuracy: 0.6390\n",
      "Epoch 38/100\n",
      "359/359 [==============================] - 33s 92ms/step - loss: 1.3694 - accuracy: 0.6421 - val_loss: 1.3661 - val_accuracy: 0.6473\n",
      "Epoch 39/100\n",
      "359/359 [==============================] - 36s 99ms/step - loss: 1.3664 - accuracy: 0.6415 - val_loss: 1.4047 - val_accuracy: 0.6341\n",
      "Epoch 40/100\n",
      "359/359 [==============================] - 34s 93ms/step - loss: 1.3660 - accuracy: 0.6429 - val_loss: 1.3335 - val_accuracy: 0.6480\n",
      "Epoch 41/100\n",
      "359/359 [==============================] - 36s 99ms/step - loss: 1.3564 - accuracy: 0.6474 - val_loss: 1.3510 - val_accuracy: 0.6459\n",
      "Epoch 42/100\n",
      "359/359 [==============================] - 33s 91ms/step - loss: 1.3597 - accuracy: 0.6449 - val_loss: 1.3407 - val_accuracy: 0.6564\n",
      "Epoch 43/100\n",
      "359/359 [==============================] - 36s 100ms/step - loss: 1.3623 - accuracy: 0.6495 - val_loss: 1.3617 - val_accuracy: 0.6494\n",
      "Epoch 44/100\n",
      "359/359 [==============================] - 33s 92ms/step - loss: 1.3570 - accuracy: 0.6516 - val_loss: 1.3750 - val_accuracy: 0.6508\n",
      "Epoch 45/100\n",
      "359/359 [==============================] - 36s 101ms/step - loss: 1.3486 - accuracy: 0.6522 - val_loss: 1.3826 - val_accuracy: 0.6425\n",
      "Epoch 46/100\n",
      "359/359 [==============================] - 33s 91ms/step - loss: 1.3565 - accuracy: 0.6516 - val_loss: 1.3660 - val_accuracy: 0.6571\n",
      "Epoch 47/100\n",
      "359/359 [==============================] - 36s 100ms/step - loss: 1.3521 - accuracy: 0.6512 - val_loss: 1.3378 - val_accuracy: 0.6676\n",
      "Epoch 48/100\n",
      "359/359 [==============================] - 33s 92ms/step - loss: 1.3540 - accuracy: 0.6506 - val_loss: 1.3374 - val_accuracy: 0.6620\n",
      "Epoch 49/100\n",
      "359/359 [==============================] - 36s 100ms/step - loss: 1.3600 - accuracy: 0.6478 - val_loss: 1.3596 - val_accuracy: 0.6606\n",
      "Epoch 50/100\n",
      "359/359 [==============================] - 33s 92ms/step - loss: 1.3412 - accuracy: 0.6596 - val_loss: 1.3608 - val_accuracy: 0.6515\n",
      "Epoch 51/100\n",
      "359/359 [==============================] - 36s 102ms/step - loss: 1.3451 - accuracy: 0.6546 - val_loss: 1.3571 - val_accuracy: 0.6571\n",
      "Epoch 52/100\n",
      "359/359 [==============================] - 33s 92ms/step - loss: 1.3539 - accuracy: 0.6559 - val_loss: 1.3891 - val_accuracy: 0.6487\n",
      "Epoch 53/100\n",
      "359/359 [==============================] - 36s 101ms/step - loss: 1.3538 - accuracy: 0.6575 - val_loss: 1.3441 - val_accuracy: 0.6676\n",
      "Epoch 54/100\n",
      "359/359 [==============================] - 33s 91ms/step - loss: 1.3300 - accuracy: 0.6606 - val_loss: 1.3766 - val_accuracy: 0.6536\n",
      "Epoch 55/100\n",
      "359/359 [==============================] - 36s 101ms/step - loss: 1.3407 - accuracy: 0.6666 - val_loss: 1.3573 - val_accuracy: 0.6711\n",
      "Epoch 56/100\n",
      "359/359 [==============================] - 33s 92ms/step - loss: 1.3475 - accuracy: 0.6630 - val_loss: 1.3426 - val_accuracy: 0.6662\n",
      "Epoch 57/100\n",
      "359/359 [==============================] - 36s 100ms/step - loss: 1.3300 - accuracy: 0.6718 - val_loss: 1.3524 - val_accuracy: 0.6613\n",
      "Epoch 58/100\n",
      "359/359 [==============================] - 33s 93ms/step - loss: 1.3252 - accuracy: 0.6710 - val_loss: 1.3445 - val_accuracy: 0.6627\n",
      "Epoch 59/100\n",
      "359/359 [==============================] - 34s 94ms/step - loss: 1.3272 - accuracy: 0.6706 - val_loss: 1.3392 - val_accuracy: 0.6648\n",
      "Epoch 60/100\n",
      "359/359 [==============================] - 35s 97ms/step - loss: 1.3377 - accuracy: 0.6653 - val_loss: 1.3593 - val_accuracy: 0.6725\n",
      "Epoch 61/100\n",
      "359/359 [==============================] - 33s 91ms/step - loss: 1.3096 - accuracy: 0.6800 - val_loss: 1.3533 - val_accuracy: 0.6662\n",
      "Epoch 62/100\n",
      "359/359 [==============================] - 37s 103ms/step - loss: 1.3353 - accuracy: 0.6685 - val_loss: 1.3913 - val_accuracy: 0.6453\n",
      "Epoch 63/100\n",
      "359/359 [==============================] - 32s 90ms/step - loss: 1.3319 - accuracy: 0.6736 - val_loss: 1.3900 - val_accuracy: 0.6690\n",
      "Epoch 64/100\n",
      "359/359 [==============================] - 32s 89ms/step - loss: 1.3275 - accuracy: 0.6778 - val_loss: 1.4156 - val_accuracy: 0.6432\n",
      "Epoch 65/100\n",
      "359/359 [==============================] - 33s 92ms/step - loss: 1.3294 - accuracy: 0.6757 - val_loss: 1.3739 - val_accuracy: 0.6536\n",
      "Epoch 66/100\n",
      "359/359 [==============================] - 37s 104ms/step - loss: 1.3243 - accuracy: 0.6802 - val_loss: 1.4047 - val_accuracy: 0.6564\n",
      "Epoch 67/100\n",
      "359/359 [==============================] - 34s 94ms/step - loss: 1.3251 - accuracy: 0.6775 - val_loss: 1.3951 - val_accuracy: 0.6425\n",
      "Epoch 68/100\n",
      "359/359 [==============================] - 32s 90ms/step - loss: 1.3095 - accuracy: 0.6849 - val_loss: 1.4146 - val_accuracy: 0.6501\n",
      "Epoch 69/100\n",
      "359/359 [==============================] - 33s 91ms/step - loss: 1.3283 - accuracy: 0.6819 - val_loss: 1.3362 - val_accuracy: 0.6823\n",
      "Epoch 70/100\n",
      "359/359 [==============================] - 38s 105ms/step - loss: 1.3073 - accuracy: 0.6847 - val_loss: 1.3613 - val_accuracy: 0.6683\n",
      "Epoch 71/100\n",
      "359/359 [==============================] - 33s 92ms/step - loss: 1.3192 - accuracy: 0.6832 - val_loss: 1.3562 - val_accuracy: 0.6739\n",
      "Epoch 72/100\n",
      "359/359 [==============================] - 33s 91ms/step - loss: 1.3106 - accuracy: 0.6900 - val_loss: 1.3825 - val_accuracy: 0.6592\n",
      "Epoch 73/100\n",
      "359/359 [==============================] - 33s 92ms/step - loss: 1.3139 - accuracy: 0.6876 - val_loss: 1.3516 - val_accuracy: 0.6592\n",
      "Epoch 74/100\n",
      "359/359 [==============================] - 37s 104ms/step - loss: 1.3106 - accuracy: 0.6861 - val_loss: 1.3877 - val_accuracy: 0.6634\n",
      "Epoch 75/100\n",
      "359/359 [==============================] - 33s 92ms/step - loss: 1.3101 - accuracy: 0.6917 - val_loss: 1.3766 - val_accuracy: 0.6704\n",
      "Epoch 76/100\n",
      "359/359 [==============================] - 33s 93ms/step - loss: 1.3147 - accuracy: 0.6906 - val_loss: 1.3653 - val_accuracy: 0.6697\n",
      "Epoch 77/100\n",
      "359/359 [==============================] - 33s 92ms/step - loss: 1.2999 - accuracy: 0.6896 - val_loss: 1.3747 - val_accuracy: 0.6760\n",
      "Epoch 78/100\n",
      "359/359 [==============================] - 39s 108ms/step - loss: 1.3126 - accuracy: 0.6902 - val_loss: 1.3726 - val_accuracy: 0.6767\n",
      "Epoch 79/100\n",
      "359/359 [==============================] - 33s 91ms/step - loss: 1.2940 - accuracy: 0.7004 - val_loss: 1.3638 - val_accuracy: 0.6725\n",
      "Epoch 80/100\n",
      "359/359 [==============================] - 33s 91ms/step - loss: 1.3095 - accuracy: 0.6881 - val_loss: 1.4443 - val_accuracy: 0.6564\n",
      "Epoch 81/100\n",
      "359/359 [==============================] - 33s 91ms/step - loss: 1.3009 - accuracy: 0.6948 - val_loss: 1.3627 - val_accuracy: 0.6662\n",
      "Epoch 82/100\n",
      "359/359 [==============================] - 37s 104ms/step - loss: 1.3131 - accuracy: 0.6862 - val_loss: 1.3536 - val_accuracy: 0.6774\n",
      "Epoch 83/100\n",
      "359/359 [==============================] - 33s 91ms/step - loss: 1.2871 - accuracy: 0.6996 - val_loss: 1.3714 - val_accuracy: 0.6816\n",
      "Epoch 84/100\n",
      "359/359 [==============================] - 33s 91ms/step - loss: 1.3009 - accuracy: 0.6981 - val_loss: 1.3488 - val_accuracy: 0.6739\n",
      "Epoch 85/100\n",
      "359/359 [==============================] - 33s 93ms/step - loss: 1.2859 - accuracy: 0.6973 - val_loss: 1.3602 - val_accuracy: 0.6830\n",
      "Epoch 86/100\n",
      "359/359 [==============================] - 39s 108ms/step - loss: 1.3034 - accuracy: 0.6958 - val_loss: 1.3718 - val_accuracy: 0.6627\n",
      "Epoch 87/100\n",
      "359/359 [==============================] - 32s 90ms/step - loss: 1.2948 - accuracy: 0.6977 - val_loss: 1.3716 - val_accuracy: 0.6753\n",
      "Epoch 88/100\n",
      "359/359 [==============================] - 32s 90ms/step - loss: 1.2931 - accuracy: 0.6974 - val_loss: 1.3800 - val_accuracy: 0.6823\n",
      "Epoch 89/100\n",
      "359/359 [==============================] - 32s 89ms/step - loss: 1.2924 - accuracy: 0.7006 - val_loss: 1.4194 - val_accuracy: 0.6711\n",
      "Epoch 90/100\n",
      "359/359 [==============================] - 39s 108ms/step - loss: 1.2905 - accuracy: 0.6974 - val_loss: 1.4015 - val_accuracy: 0.6634\n",
      "Epoch 91/100\n",
      "359/359 [==============================] - 32s 90ms/step - loss: 1.2863 - accuracy: 0.7040 - val_loss: 1.3917 - val_accuracy: 0.6823\n",
      "Epoch 92/100\n",
      "359/359 [==============================] - 32s 90ms/step - loss: 1.2844 - accuracy: 0.6995 - val_loss: 1.3657 - val_accuracy: 0.6830\n",
      "Epoch 93/100\n",
      "359/359 [==============================] - 32s 89ms/step - loss: 1.2833 - accuracy: 0.7033 - val_loss: 1.3814 - val_accuracy: 0.6774\n",
      "Epoch 94/100\n",
      "359/359 [==============================] - 37s 103ms/step - loss: 1.2830 - accuracy: 0.7036 - val_loss: 1.3668 - val_accuracy: 0.6892\n",
      "Epoch 95/100\n",
      "359/359 [==============================] - 34s 95ms/step - loss: 1.2981 - accuracy: 0.7006 - val_loss: 1.3750 - val_accuracy: 0.6767\n",
      "Epoch 96/100\n",
      "359/359 [==============================] - 32s 90ms/step - loss: 1.2816 - accuracy: 0.7000 - val_loss: 1.4305 - val_accuracy: 0.6648\n",
      "Epoch 97/100\n",
      "359/359 [==============================] - 32s 90ms/step - loss: 1.2759 - accuracy: 0.7132 - val_loss: 1.3634 - val_accuracy: 0.6948\n",
      "Epoch 98/100\n",
      "359/359 [==============================] - 33s 91ms/step - loss: 1.2894 - accuracy: 0.7068 - val_loss: 1.3734 - val_accuracy: 0.6976\n",
      "Epoch 99/100\n",
      "359/359 [==============================] - 37s 103ms/step - loss: 1.2830 - accuracy: 0.7072 - val_loss: 1.3816 - val_accuracy: 0.6788\n",
      "Epoch 100/100\n",
      "359/359 [==============================] - 33s 91ms/step - loss: 1.2962 - accuracy: 0.7012 - val_loss: 1.3889 - val_accuracy: 0.6655\n"
     ]
    }
   ],
   "source": [
    "history = model.fit(x = train_generator,epochs = epochs,validation_data = validation_generator)"
   ]
  },
  {
   "cell_type": "code",
   "execution_count": 11,
   "id": "8469d81b",
   "metadata": {
    "execution": {
     "iopub.execute_input": "2021-08-24T15:11:46.074558Z",
     "iopub.status.busy": "2021-08-24T15:11:46.073548Z",
     "iopub.status.idle": "2021-08-24T15:11:46.469286Z",
     "shell.execute_reply": "2021-08-24T15:11:46.469842Z",
     "shell.execute_reply.started": "2021-08-24T14:09:46.302505Z"
    },
    "papermill": {
     "duration": 12.67253,
     "end_time": "2021-08-24T15:11:46.470061",
     "exception": false,
     "start_time": "2021-08-24T15:11:33.797531",
     "status": "completed"
    },
    "tags": []
   },
   "outputs": [
    {
     "data": {
      "image/png": "[encoded data removed]",
      "text/plain": [
       "<Figure size 432x288 with 1 Axes>"
      ]
     },
     "metadata": {
      "needs_background": "light"
     },
     "output_type": "display_data"
    },
    {
     "data": {
      "text/plain": [
       "<Figure size 432x288 with 0 Axes>"
      ]
     },
     "metadata": {},
     "output_type": "display_data"
    },
    {
     "data": {
      "image/png": "[encoded data removed]",
      "text/plain": [
       "<Figure size 432x288 with 1 Axes>"
      ]
     },
     "metadata": {
      "needs_background": "light"
     },
     "output_type": "display_data"
    }
   ],
   "source": [
    "import matplotlib.pyplot as plt\n",
    "accuracy = history.history['accuracy']\n",
    "val_acc = history.history['val_accuracy']\n",
    "loss = history.history['loss']\n",
    "val_loss = history.history['val_loss']\n",
    "\n",
    "epochs = range(len(accuracy))\n",
    "\n",
    "plt.plot(epochs, accuracy, 'r', label='Training accuracy')\n",
    "plt.plot(epochs, val_acc, 'b', label='Validation accuracy')\n",
    "plt.title('Training and validation accuracy')\n",
    "plt.legend(loc=0)\n",
    "plt.figure()\n",
    "\n",
    "\n",
    "plt.show()\n",
    "\n",
    "\n",
    "\n",
    "plt.plot(epochs, loss, 'r', label='Training loss')\n",
    "plt.plot(epochs, val_loss, 'b', label='Validation loss')\n",
    "plt.title('Training and validation loss')\n",
    "plt.legend(loc=0)\n",
    "plt.show()"
   ]
  },
  {
   "cell_type": "code",
   "execution_count": 12,
   "id": "e390dc8b",
   "metadata": {
    "execution": {
     "iopub.execute_input": "2021-08-24T15:12:11.595940Z",
     "iopub.status.busy": "2021-08-24T15:12:11.594781Z",
     "iopub.status.idle": "2021-08-24T15:12:11.767155Z",
     "shell.execute_reply": "2021-08-24T15:12:11.766300Z",
     "shell.execute_reply.started": "2021-08-24T14:10:30.034363Z"
    },
    "papermill": {
     "duration": 13.103415,
     "end_time": "2021-08-24T15:12:11.767316",
     "exception": false,
     "start_time": "2021-08-24T15:11:58.663901",
     "status": "completed"
    },
    "tags": []
   },
   "outputs": [],
   "source": [
    "model.save('model_fer2013.h5')"
   ]
  },
  {
   "cell_type": "code",
   "execution_count": 13,
   "id": "b09517f2",
   "metadata": {
    "execution": {
     "iopub.execute_input": "2021-08-24T15:12:36.475056Z",
     "iopub.status.busy": "2021-08-24T15:12:36.474404Z",
     "iopub.status.idle": "2021-08-24T15:13:07.339807Z",
     "shell.execute_reply": "2021-08-24T15:13:07.339279Z",
     "shell.execute_reply.started": "2021-08-24T14:10:30.653793Z"
    },
    "papermill": {
     "duration": 43.220067,
     "end_time": "2021-08-24T15:13:07.339990",
     "exception": false,
     "start_time": "2021-08-24T15:12:24.119923",
     "status": "completed"
    },
    "tags": []
   },
   "outputs": [
    {
     "name": "stdout",
     "output_type": "stream",
     "text": [
      "359/359 [==============================] - 29s 82ms/step - loss: 1.1284 - accuracy: 0.7675\n",
      "23/23 [==============================] - 1s 53ms/step - loss: 1.3889 - accuracy: 0.6655\n",
      "final train accuracy = 76.75 , validation accuracy = 66.55\n"
     ]
    }
   ],
   "source": [
    "train_loss, train_acc = model.evaluate(train_generator)\n",
    "test_loss, test_acc   = model.evaluate(validation_generator)\n",
    "print(\"final train accuracy = {:.2f} , validation accuracy = {:.2f}\".format(train_acc*100, test_acc*100))"
   ]
  },
  {
   "cell_type": "code",
   "execution_count": 14,
   "id": "79ef2373",
   "metadata": {
    "execution": {
     "iopub.execute_input": "2021-08-24T15:13:32.866263Z",
     "iopub.status.busy": "2021-08-24T15:13:32.865528Z",
     "iopub.status.idle": "2021-08-24T15:13:33.029364Z",
     "shell.execute_reply": "2021-08-24T15:13:33.029881Z",
     "shell.execute_reply.started": "2021-08-24T14:11:48.719041Z"
    },
    "papermill": {
     "duration": 12.683887,
     "end_time": "2021-08-24T15:13:33.030062",
     "exception": false,
     "start_time": "2021-08-24T15:13:20.346175",
     "status": "completed"
    },
    "tags": []
   },
   "outputs": [
    {
     "name": "stdout",
     "output_type": "stream",
     "text": [
      "(48, 48)\n"
     ]
    },
    {
     "data": {
      "image/png": "[encoded data removed]",
      "text/plain": [
       "<Figure size 432x288 with 1 Axes>"
      ]
     },
     "metadata": {
      "needs_background": "light"
     },
     "output_type": "display_data"
    }
   ],
   "source": [
    "img = image.load_img(\"/kaggle/input/fer2013/test/fear/PrivateTest_11014592.jpg\",target_size = (48,48),color_mode = \"grayscale\")\n",
    "img = np.array(img)\n",
    "plt.imshow(img)\n",
    "print(img.shape)"
   ]
  },
  {
   "cell_type": "code",
   "execution_count": 15,
   "id": "56bb214c",
   "metadata": {
    "execution": {
     "iopub.execute_input": "2021-08-24T15:13:59.493291Z",
     "iopub.status.busy": "2021-08-24T15:13:59.492283Z",
     "iopub.status.idle": "2021-08-24T15:13:59.495361Z",
     "shell.execute_reply": "2021-08-24T15:13:59.495928Z",
     "shell.execute_reply.started": "2021-08-24T14:11:51.258726Z"
    },
    "papermill": {
     "duration": 12.900899,
     "end_time": "2021-08-24T15:13:59.496082",
     "exception": false,
     "start_time": "2021-08-24T15:13:46.595183",
     "status": "completed"
    },
    "tags": []
   },
   "outputs": [],
   "source": [
    "label_dict = {0:'Angry',1:'Disgust',2:'Fear',3:'Happy',4:'Neutral',5:'Sad',6:'Surprise'}"
   ]
  },
  {
   "cell_type": "code",
   "execution_count": 16,
   "id": "9a208d59",
   "metadata": {
    "execution": {
     "iopub.execute_input": "2021-08-24T15:14:25.112058Z",
     "iopub.status.busy": "2021-08-24T15:14:25.111179Z",
     "iopub.status.idle": "2021-08-24T15:14:25.415032Z",
     "shell.execute_reply": "2021-08-24T15:14:25.414442Z",
     "shell.execute_reply.started": "2021-08-24T14:11:51.745185Z"
    },
    "papermill": {
     "duration": 13.435242,
     "end_time": "2021-08-24T15:14:25.415207",
     "exception": false,
     "start_time": "2021-08-24T15:14:11.979965",
     "status": "completed"
    },
    "tags": []
   },
   "outputs": [
    {
     "name": "stdout",
     "output_type": "stream",
     "text": [
      "[0.0, 0.0, 1.0, 0.0, 0.0, 6.3208744e-21, 0.0]\n"
     ]
    }
   ],
   "source": [
    "img = np.expand_dims(img,axis = 0) #makes image shape (1,48,48)\n",
    "img = img.reshape(1,48,48,1)\n",
    "result = model.predict(img)\n",
    "result = list(result[0])\n",
    "print(result)"
   ]
  },
  {
   "cell_type": "code",
   "execution_count": 17,
   "id": "5505ded8",
   "metadata": {
    "execution": {
     "iopub.execute_input": "2021-08-24T15:14:50.404485Z",
     "iopub.status.busy": "2021-08-24T15:14:50.403639Z",
     "iopub.status.idle": "2021-08-24T15:14:50.407624Z",
     "shell.execute_reply": "2021-08-24T15:14:50.408256Z",
     "shell.execute_reply.started": "2021-08-24T14:11:53.041808Z"
    },
    "papermill": {
     "duration": 12.525735,
     "end_time": "2021-08-24T15:14:50.408451",
     "exception": false,
     "start_time": "2021-08-24T15:14:37.882716",
     "status": "completed"
    },
    "tags": []
   },
   "outputs": [
    {
     "name": "stdout",
     "output_type": "stream",
     "text": [
      "Fear\n"
     ]
    }
   ],
   "source": [
    "img_index = result.index(max(result))\n",
    "print(label_dict[img_index])\n",
    "plt.show()"
   ]
  },
  {
   "cell_type": "code",
   "execution_count": 18,
   "id": "e5cd8af4",
   "metadata": {
    "execution": {
     "iopub.execute_input": "2021-08-24T15:15:16.207295Z",
     "iopub.status.busy": "2021-08-24T15:15:16.206212Z",
     "iopub.status.idle": "2021-08-24T15:15:16.265953Z",
     "shell.execute_reply": "2021-08-24T15:15:16.265375Z",
     "shell.execute_reply.started": "2021-08-24T14:11:55.693779Z"
    },
    "papermill": {
     "duration": 12.512905,
     "end_time": "2021-08-24T15:15:16.266146",
     "exception": false,
     "start_time": "2021-08-24T15:15:03.753241",
     "status": "completed"
    },
    "tags": []
   },
   "outputs": [],
   "source": [
    "model.save_weights('model_weights.h5')"
   ]
  },
  {
   "cell_type": "code",
   "execution_count": null,
   "id": "ce611d71",
   "metadata": {
    "papermill": {
     "duration": 12.517961,
     "end_time": "2021-08-24T15:15:40.738450",
     "exception": false,
     "start_time": "2021-08-24T15:15:28.220489",
     "status": "completed"
    },
    "tags": []
   },
   "outputs": [],
   "source": []
  }
 ],
 "metadata": {
  "kernelspec": {
   "display_name": "Python 3",
   "language": "python",
   "name": "python3"
  },
  "language_info": {
   "codemirror_mode": {
    "name": "ipython",
    "version": 3
   },
   "file_extension": ".py",
   "mimetype": "text/x-python",
   "name": "python",
   "nbconvert_exporter": "python",
   "pygments_lexer": "ipython3",
   "version": "3.8.8"
  },
  "papermill": {
   "default_parameters": {},
   "duration": 3813.29984,
   "end_time": "2021-08-24T15:15:55.379548",
   "environment_variables": {},
   "exception": null,
   "input_path": "__notebook__.ipynb",
   "output_path": "__notebook__.ipynb",
   "parameters": {},
   "start_time": "2021-08-24T14:12:22.079708",
   "version": "2.3.3"
  }
 },
 "nbformat": 4,
 "nbformat_minor": 5
}
